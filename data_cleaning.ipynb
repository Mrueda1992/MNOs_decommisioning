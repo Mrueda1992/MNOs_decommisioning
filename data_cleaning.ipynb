{
 "cells": [
  {
   "cell_type": "code",
   "execution_count": 39,
   "metadata": {},
   "outputs": [],
   "source": [
    "import pandas as pd\n",
    "import numpy as np\n",
    "import xlrd \n",
    "import re\n",
    "import matplotlib.pyplot as plt\n",
    "%matplotlib inline\n",
    "import seaborn as sns"
   ]
  },
  {
   "cell_type": "markdown",
   "metadata": {},
   "source": [
    "**Load dataset into an excel format**"
   ]
  },
  {
   "cell_type": "code",
   "execution_count": 40,
   "metadata": {},
   "outputs": [],
   "source": [
    "file = pd.read_excel(\"MNO Decommissioning Directory 4th.xlsx\", skiprows=2)"
   ]
  },
  {
   "cell_type": "code",
   "execution_count": 41,
   "metadata": {},
   "outputs": [
    {
     "data": {
      "text/plain": [
       "(38, 8)"
      ]
     },
     "execution_count": 41,
     "metadata": {},
     "output_type": "execute_result"
    }
   ],
   "source": [
    "file.shape"
   ]
  },
  {
   "cell_type": "markdown",
   "metadata": {},
   "source": [
    "**First, we want to check the percentage of null values for each column in the dataset**"
   ]
  },
  {
   "cell_type": "code",
   "execution_count": 42,
   "metadata": {},
   "outputs": [
    {
     "name": "stdout",
     "output_type": "stream",
     "text": [
      "Company                                                    0.000000\n",
      "Country                                                    0.000000\n",
      "2G Decommision date                                        5.263158\n",
      "3G Decommision date                                        7.894737\n",
      "How will Voice be supported following any decommision      7.894737\n",
      "How will IoT be supported following any decommision       31.578947\n",
      "Already Launched                                           5.263158\n",
      "Coming Soon                                              100.000000\n",
      "dtype: float64\n",
      "One column has 100.0 percent nulls\n"
     ]
    }
   ],
   "source": [
    "null_percent = file.isnull().sum()/len(file)*100\n",
    "print(null_percent)\n",
    "print('One column has {} percent nulls'.format(null_percent['Coming Soon']))"
   ]
  },
  {
   "cell_type": "markdown",
   "metadata": {},
   "source": [
    "**Drop the file that only contains null values**"
   ]
  },
  {
   "cell_type": "code",
   "execution_count": 43,
   "metadata": {},
   "outputs": [],
   "source": [
    "#drop nulls\n",
    "file.drop('Coming Soon', axis=1, inplace=True)\n"
   ]
  },
  {
   "cell_type": "markdown",
   "metadata": {},
   "source": [
    "**Rename some columns to make them shorter**"
   ]
  },
  {
   "cell_type": "code",
   "execution_count": 44,
   "metadata": {},
   "outputs": [],
   "source": [
    "#rename columns\n",
    "file.rename(columns= {'2G Decommision date ':'2G Decommision','3G Decommision date':'3G Decommision','How will Voice be supported following any decommision':'Voice','How will IoT be supported following any decommision':'IoT', 'Already Launched ':'Already Launched'},inplace=True)\n",
    "\n",
    "\n"
   ]
  },
  {
   "cell_type": "markdown",
   "metadata": {},
   "source": [
    "**Dataframe overview for further cleaning**"
   ]
  },
  {
   "cell_type": "code",
   "execution_count": 45,
   "metadata": {},
   "outputs": [
    {
     "data": {
      "text/html": [
       "<div>\n",
       "<style scoped>\n",
       "    .dataframe tbody tr th:only-of-type {\n",
       "        vertical-align: middle;\n",
       "    }\n",
       "\n",
       "    .dataframe tbody tr th {\n",
       "        vertical-align: top;\n",
       "    }\n",
       "\n",
       "    .dataframe thead th {\n",
       "        text-align: right;\n",
       "    }\n",
       "</style>\n",
       "<table border=\"1\" class=\"dataframe\">\n",
       "  <thead>\n",
       "    <tr style=\"text-align: right;\">\n",
       "      <th></th>\n",
       "      <th>Company</th>\n",
       "      <th>Country</th>\n",
       "      <th>2G Decommision</th>\n",
       "      <th>3G Decommision</th>\n",
       "      <th>Voice</th>\n",
       "      <th>IoT</th>\n",
       "      <th>Already Launched</th>\n",
       "    </tr>\n",
       "  </thead>\n",
       "  <tbody>\n",
       "    <tr>\n",
       "      <th>0</th>\n",
       "      <td>A1 Bulgaria</td>\n",
       "      <td>Serbia</td>\n",
       "      <td>No Plans</td>\n",
       "      <td>No Plans</td>\n",
       "      <td>Don't Know</td>\n",
       "      <td>NaN</td>\n",
       "      <td>4G</td>\n",
       "    </tr>\n",
       "    <tr>\n",
       "      <th>1</th>\n",
       "      <td>A1 Slovenia</td>\n",
       "      <td>Slovenia</td>\n",
       "      <td>No Plans</td>\n",
       "      <td>No Plans</td>\n",
       "      <td>No plans for decommissioning</td>\n",
       "      <td>NaN</td>\n",
       "      <td>4G</td>\n",
       "    </tr>\n",
       "    <tr>\n",
       "      <th>2</th>\n",
       "      <td>A1 Telekom Austria</td>\n",
       "      <td>Austria</td>\n",
       "      <td>No Plans</td>\n",
       "      <td>No Plans</td>\n",
       "      <td>No plans for decommissioning</td>\n",
       "      <td>NaN</td>\n",
       "      <td>4G</td>\n",
       "    </tr>\n",
       "    <tr>\n",
       "      <th>3</th>\n",
       "      <td>At&amp;t</td>\n",
       "      <td>USA</td>\n",
       "      <td>NaN</td>\n",
       "      <td>NaN</td>\n",
       "      <td>NaN</td>\n",
       "      <td>NaN</td>\n",
       "      <td>NaN</td>\n",
       "    </tr>\n",
       "    <tr>\n",
       "      <th>4</th>\n",
       "      <td>China Telecom</td>\n",
       "      <td>China</td>\n",
       "      <td>2022</td>\n",
       "      <td>2022</td>\n",
       "      <td>VoLTE</td>\n",
       "      <td>NB-IoT</td>\n",
       "      <td>4G, (VoLTE 2019), (5G and NB-IoT 2020),</td>\n",
       "    </tr>\n",
       "  </tbody>\n",
       "</table>\n",
       "</div>"
      ],
      "text/plain": [
       "              Company   Country 2G Decommision 3G Decommision  \\\n",
       "0         A1 Bulgaria    Serbia       No Plans       No Plans   \n",
       "1         A1 Slovenia  Slovenia       No Plans       No Plans   \n",
       "2  A1 Telekom Austria   Austria       No Plans       No Plans   \n",
       "3                At&t       USA            NaN            NaN   \n",
       "4       China Telecom     China           2022           2022   \n",
       "\n",
       "                          Voice     IoT  \\\n",
       "0                    Don't Know     NaN   \n",
       "1  No plans for decommissioning     NaN   \n",
       "2  No plans for decommissioning     NaN   \n",
       "3                           NaN     NaN   \n",
       "4                         VoLTE  NB-IoT   \n",
       "\n",
       "                           Already Launched  \n",
       "0                                        4G  \n",
       "1                                        4G  \n",
       "2                                        4G  \n",
       "3                                       NaN  \n",
       "4  4G, (VoLTE 2019), (5G and NB-IoT 2020),   "
      ]
     },
     "execution_count": 45,
     "metadata": {},
     "output_type": "execute_result"
    }
   ],
   "source": [
    "file.head()"
   ]
  },
  {
   "cell_type": "code",
   "execution_count": 46,
   "metadata": {},
   "outputs": [
    {
     "data": {
      "text/plain": [
       "No Plans      14\n",
       "2025           3\n",
       "2022           3\n",
       "No plans       2\n",
       "No Plans       2\n",
       "2023           2\n",
       "2021           2\n",
       "By Q4 2020     1\n",
       "By Q4 2023     1\n",
       "Q4 2025        1\n",
       "Q1 2021        1\n",
       "Q3 2022        1\n",
       "Q4 2021        1\n",
       "2024           1\n",
       "Name: 3G Decommision, dtype: int64"
      ]
     },
     "execution_count": 46,
     "metadata": {},
     "output_type": "execute_result"
    }
   ],
   "source": [
    "file['3G Decommision'].value_counts()"
   ]
  },
  {
   "cell_type": "markdown",
   "metadata": {},
   "source": [
    "**Data is messy, so we have to clean it. Group companies that don't have plans of starting a 2G or 3G decommission within next years.**\n"
   ]
  },
  {
   "cell_type": "code",
   "execution_count": 47,
   "metadata": {},
   "outputs": [],
   "source": [
    "def no_plans(text):\n",
    "    text = str(text)\n",
    "    match_1 = re.findall('([pP]lans)', text)\n",
    "    if match_1: return 'No Plans' \n",
    "    else: return text\n",
    "    \n",
    "file['2G Decommision'] = file['2G Decommision'].apply(no_plans)\n",
    "file['3G Decommision'] = file['3G Decommision'].apply(no_plans)"
   ]
  },
  {
   "cell_type": "markdown",
   "metadata": {},
   "source": [
    "**We are going to split the dataframe in companies that HAVE and DO NOT HAVE plans to decommision 2G networks within the next years.**\n",
    "\n",
    "**But, first, we want to know which companies do not have any plans whatsoever for decnnecting from 2G and 3G**"
   ]
  },
  {
   "cell_type": "code",
   "execution_count": 77,
   "metadata": {},
   "outputs": [
    {
     "name": "stdout",
     "output_type": "stream",
     "text": [
      "                  Company          Country\n",
      "0             A1 Bulgaria           Serbia\n",
      "1             A1 Slovenia         Slovenia\n",
      "2      A1 Telekom Austria          Austria\n",
      "9                     HKT        Hong Kong\n",
      "17      one.Vip Macedonia        Macedonia\n",
      "18             Panayotova          Croatia\n",
      "20                  SETAR            Aruba\n",
      "23               T-Mobile  Slovak Republic\n",
      "27               T-Mobile          Romania\n",
      "31               T-Mobile          Austria\n",
      "33  Telecom Liechtenstein    Liechtenstein\n",
      "34         Telekom Srbija           Serbia\n",
      "36          Three Ireland          Ireland\n",
      "37                Verizon    United States\n"
     ]
    }
   ],
   "source": [
    "companies_not_decommisioning = file[['Company','Country']].loc[(file['2G Decommision']=='No Plans')&(file['3G Decommision']=='No Plans')]\n",
    "print(companies_not_decommisioning)\n",
    "\n"
   ]
  },
  {
   "cell_type": "markdown",
   "metadata": {},
   "source": [
    "**Which percentage suppose these companies over the total sample?**"
   ]
  },
  {
   "cell_type": "code",
   "execution_count": 72,
   "metadata": {},
   "outputs": [
    {
     "name": "stdout",
     "output_type": "stream",
     "text": [
      "36.84 %\n"
     ]
    }
   ],
   "source": [
    "print(round(companies_not_decommisioning.count()/len(file)*100, 2),\"%\")"
   ]
  },
  {
   "cell_type": "markdown",
   "metadata": {},
   "source": [
    "**And for 2G and 3G separated?**"
   ]
  },
  {
   "cell_type": "code",
   "execution_count": 75,
   "metadata": {},
   "outputs": [
    {
     "data": {
      "text/plain": [
       "[No Plans           63.157895\n",
       " 2025                5.263158\n",
       " Q1 2019             5.263158\n",
       " nan                 5.263158\n",
       " Q1 2020             2.631579\n",
       " 2022                2.631579\n",
       " By Q4 2025          2.631579\n",
       " Later than 2030     2.631579\n",
       " Q4 2020             2.631579\n",
       " 2023                2.631579\n",
       " Don't have 2G       2.631579\n",
       " 2020                2.631579\n",
       " Name: 2G Decommision, dtype: float64,\n",
       " '_______________________',\n",
       " No Plans      47.368421\n",
       " 2022           7.894737\n",
       " 2025           7.894737\n",
       " nan            7.894737\n",
       " 2021           5.263158\n",
       " 2023           5.263158\n",
       " By Q4 2020     2.631579\n",
       " By Q4 2023     2.631579\n",
       " Q4 2025        2.631579\n",
       " Q3 2022        2.631579\n",
       " Q4 2021        2.631579\n",
       " Q1 2021        2.631579\n",
       " 2024           2.631579\n",
       " Name: 3G Decommision, dtype: float64]"
      ]
     },
     "execution_count": 75,
     "metadata": {},
     "output_type": "execute_result"
    }
   ],
   "source": [
    "[file['2G Decommision'].value_counts()/len(file)*100, \"_______________________\",\n",
    "file['3G Decommision'].value_counts()/len(file)*100]\n",
    "\n",
    "\n"
   ]
  },
  {
   "cell_type": "markdown",
   "metadata": {},
   "source": [
    "**Now, we have seen that dates does not come 'clean' in the dataset. Let's modify them using regular expressions**"
   ]
  },
  {
   "cell_type": "code",
   "execution_count": 82,
   "metadata": {},
   "outputs": [],
   "source": [
    "def clean_dates(text):\n",
    "    text=str(text)\n",
    "    match_2 = re.findall('\\d\\d+',text)\n",
    "    if match_2: return match_2[0]\n",
    "    else: return text\n",
    "    \n",
    "file['2G Decommision'] = file['2G Decommision'].apply(clean_dates)\n",
    "file['3G Decommision'] = file['3G Decommision'].apply(clean_dates)\n"
   ]
  },
  {
   "cell_type": "markdown",
   "metadata": {},
   "source": [
    "**Split dataset**"
   ]
  },
  {
   "cell_type": "code",
   "execution_count": 92,
   "metadata": {},
   "outputs": [
    {
     "name": "stdout",
     "output_type": "stream",
     "text": [
      "There are 8 companies that are decommisioning 2G within the next years\n"
     ]
    }
   ],
   "source": [
    "both_networks = file[(file['2G Decommision']!= 'No Plans') & (file['3G Decommision']!= 'No Plans') & (file['3G Decommision']!= 'nan') & (file['2G Decommision']!= 'nan')].dropna()\n",
    "just_2G = file[(file['2G Decommision']!= 'No Plans') & (file['3G Decommision']== 'No Plans')& (file['2G Decommision']!= 'nan')].dropna()\n",
    "just_3G = df_2 = file[(file['2G Decommision']== 'No Plans') & (file['3G Decommision']!= 'nan') & (file['2G Decommision']!= 'nan')].dropna()\n",
    "             \n",
    "print(f'There are {just_2G.shape[0]+both_networks.shape[0]} companies that are decommisioning 2G within the next years')\n"
   ]
  },
  {
   "cell_type": "code",
   "execution_count": 93,
   "metadata": {},
   "outputs": [
    {
     "data": {
      "text/html": [
       "<div>\n",
       "<style scoped>\n",
       "    .dataframe tbody tr th:only-of-type {\n",
       "        vertical-align: middle;\n",
       "    }\n",
       "\n",
       "    .dataframe tbody tr th {\n",
       "        vertical-align: top;\n",
       "    }\n",
       "\n",
       "    .dataframe thead th {\n",
       "        text-align: right;\n",
       "    }\n",
       "</style>\n",
       "<table border=\"1\" class=\"dataframe\">\n",
       "  <thead>\n",
       "    <tr style=\"text-align: right;\">\n",
       "      <th></th>\n",
       "      <th>Company</th>\n",
       "      <th>Country</th>\n",
       "      <th>2G Decommision</th>\n",
       "      <th>3G Decommision</th>\n",
       "      <th>Voice</th>\n",
       "      <th>IoT</th>\n",
       "      <th>Already Launched</th>\n",
       "    </tr>\n",
       "  </thead>\n",
       "  <tbody>\n",
       "    <tr>\n",
       "      <th>0</th>\n",
       "      <td>NE Colorado Cellular, Inc. dba Viaero Wireless</td>\n",
       "      <td>USA</td>\n",
       "      <td>2019</td>\n",
       "      <td>2024</td>\n",
       "      <td>VoLTE</td>\n",
       "      <td>5G</td>\n",
       "      <td>4G, VOLTE</td>\n",
       "    </tr>\n",
       "    <tr>\n",
       "      <th>1</th>\n",
       "      <td>Mobily</td>\n",
       "      <td>Saudi Arabia</td>\n",
       "      <td>2020</td>\n",
       "      <td>2023</td>\n",
       "      <td>3G Network</td>\n",
       "      <td>3G Network</td>\n",
       "      <td>4G</td>\n",
       "    </tr>\n",
       "    <tr>\n",
       "      <th>2</th>\n",
       "      <td>China Telecom</td>\n",
       "      <td>China</td>\n",
       "      <td>2022</td>\n",
       "      <td>2022</td>\n",
       "      <td>VoLTE</td>\n",
       "      <td>NB-IoT</td>\n",
       "      <td>4G, (VoLTE 2019), (5G and NB-IoT 2020),</td>\n",
       "    </tr>\n",
       "    <tr>\n",
       "      <th>3</th>\n",
       "      <td>EE UK</td>\n",
       "      <td>UK</td>\n",
       "      <td>2025</td>\n",
       "      <td>2023</td>\n",
       "      <td>VoLTE</td>\n",
       "      <td>NB-IoT</td>\n",
       "      <td>4G, VoLTE, 5G, NB-IoT (2020)</td>\n",
       "    </tr>\n",
       "    <tr>\n",
       "      <th>4</th>\n",
       "      <td>JT Jersey</td>\n",
       "      <td>Channel Islands</td>\n",
       "      <td>2025</td>\n",
       "      <td>2025</td>\n",
       "      <td>VoLTE</td>\n",
       "      <td>5G Network</td>\n",
       "      <td>4G, VOLTE,</td>\n",
       "    </tr>\n",
       "    <tr>\n",
       "      <th>5</th>\n",
       "      <td>T-Mobile</td>\n",
       "      <td>Czech Republic</td>\n",
       "      <td>2025</td>\n",
       "      <td>2025</td>\n",
       "      <td>All</td>\n",
       "      <td>all</td>\n",
       "      <td>4G</td>\n",
       "    </tr>\n",
       "  </tbody>\n",
       "</table>\n",
       "</div>"
      ],
      "text/plain": [
       "                                          Company          Country  \\\n",
       "0  NE Colorado Cellular, Inc. dba Viaero Wireless              USA   \n",
       "1                                          Mobily     Saudi Arabia   \n",
       "2                                   China Telecom            China   \n",
       "3                                           EE UK               UK   \n",
       "4                                       JT Jersey  Channel Islands   \n",
       "5                                        T-Mobile   Czech Republic   \n",
       "\n",
       "  2G Decommision 3G Decommision       Voice         IoT  \\\n",
       "0           2019           2024       VoLTE          5G   \n",
       "1           2020           2023  3G Network  3G Network   \n",
       "2           2022           2022       VoLTE      NB-IoT   \n",
       "3           2025           2023       VoLTE      NB-IoT   \n",
       "4           2025           2025       VoLTE  5G Network   \n",
       "5           2025           2025         All         all   \n",
       "\n",
       "                           Already Launched  \n",
       "0                                 4G, VOLTE  \n",
       "1                                        4G  \n",
       "2  4G, (VoLTE 2019), (5G and NB-IoT 2020),   \n",
       "3              4G, VoLTE, 5G, NB-IoT (2020)  \n",
       "4                               4G, VOLTE,   \n",
       "5                                        4G  "
      ]
     },
     "execution_count": 93,
     "metadata": {},
     "output_type": "execute_result"
    }
   ],
   "source": [
    "both_networks.sort_values(by='2G Decommision', ascending=True, inplace=True)\n",
    "both_networks.reset_index(drop=True)\n"
   ]
  },
  {
   "cell_type": "code",
   "execution_count": null,
   "metadata": {},
   "outputs": [],
   "source": []
  },
  {
   "cell_type": "markdown",
   "metadata": {},
   "source": [
    "# Business statements\n",
    "\n",
    "**When are companies planning to get rid of 2G Networks?**\n",
    " \n",
    "**Those who do not plan to get rid of 2G, which services are providing?; and the others?**\n"
   ]
  },
  {
   "cell_type": "code",
   "execution_count": 116,
   "metadata": {},
   "outputs": [
    {
     "data": {
      "image/png": "[encoded data removed]",
      "text/plain": [
       "<Figure size 432x288 with 1 Axes>"
      ]
     },
     "metadata": {
      "needs_background": "light"
     },
     "output_type": "display_data"
    }
   ],
   "source": [
    "both_networks.groupby('Voice')['Company'].nunique().plot(kind='bar', color = 'red', title= 'Voice services after decommisions')\n",
    "\n",
    "plt.xlabel('Services')\n",
    "plt.ylabel('Nº of companies')\n",
    "plt.savefig('Voice_afterbothnetworks.png')\n",
    "\n"
   ]
  },
  {
   "cell_type": "code",
   "execution_count": 110,
   "metadata": {},
   "outputs": [
    {
     "data": {
      "image/png": "[encoded data removed]",
      "text/plain": [
       "<Figure size 432x288 with 1 Axes>"
      ]
     },
     "metadata": {
      "needs_background": "light"
     },
     "output_type": "display_data"
    }
   ],
   "source": [
    "both_networks.groupby('IoT')['Company'].nunique().plot(kind='bar', color = 'red', title= 'IoT services after decommisions')\n",
    "\n",
    "plt.xlabel('Services')\n",
    "plt.ylabel('Nº of companies')\n",
    "plt.savefig ('IoT_afterbothnetworks.png')"
   ]
  },
  {
   "cell_type": "markdown",
   "metadata": {},
   "source": [
    "**Companies that will only decommision 2G networks**"
   ]
  },
  {
   "cell_type": "code",
   "execution_count": 119,
   "metadata": {},
   "outputs": [
    {
     "data": {
      "text/html": [
       "<div>\n",
       "<style scoped>\n",
       "    .dataframe tbody tr th:only-of-type {\n",
       "        vertical-align: middle;\n",
       "    }\n",
       "\n",
       "    .dataframe tbody tr th {\n",
       "        vertical-align: top;\n",
       "    }\n",
       "\n",
       "    .dataframe thead th {\n",
       "        text-align: right;\n",
       "    }\n",
       "</style>\n",
       "<table border=\"1\" class=\"dataframe\">\n",
       "  <thead>\n",
       "    <tr style=\"text-align: right;\">\n",
       "      <th></th>\n",
       "      <th>Company</th>\n",
       "      <th>Country</th>\n",
       "      <th>2G Decommision</th>\n",
       "      <th>3G Decommision</th>\n",
       "      <th>Voice</th>\n",
       "      <th>IoT</th>\n",
       "      <th>Already Launched</th>\n",
       "    </tr>\n",
       "  </thead>\n",
       "  <tbody>\n",
       "    <tr>\n",
       "      <th>7</th>\n",
       "      <td>Freedom Mobile</td>\n",
       "      <td>Canada</td>\n",
       "      <td>Don't have 2G</td>\n",
       "      <td>No Plans</td>\n",
       "      <td>3G Network</td>\n",
       "      <td>4G Network</td>\n",
       "      <td>4G, VoLTE (2019), 5G, LTE-M, NB-IoT (2020)</td>\n",
       "    </tr>\n",
       "    <tr>\n",
       "      <th>25</th>\n",
       "      <td>T-Mobile</td>\n",
       "      <td>The Netherlands</td>\n",
       "      <td>2020</td>\n",
       "      <td>No Plans</td>\n",
       "      <td>VoLTE</td>\n",
       "      <td>all</td>\n",
       "      <td>4G</td>\n",
       "    </tr>\n",
       "  </tbody>\n",
       "</table>\n",
       "</div>"
      ],
      "text/plain": [
       "           Company          Country 2G Decommision 3G Decommision       Voice  \\\n",
       "7   Freedom Mobile           Canada  Don't have 2G       No Plans  3G Network   \n",
       "25        T-Mobile  The Netherlands           2020       No Plans       VoLTE   \n",
       "\n",
       "           IoT                            Already Launched  \n",
       "7   4G Network  4G, VoLTE (2019), 5G, LTE-M, NB-IoT (2020)  \n",
       "25         all                                          4G  "
      ]
     },
     "execution_count": 119,
     "metadata": {},
     "output_type": "execute_result"
    }
   ],
   "source": [
    "just_2G"
   ]
  },
  {
   "cell_type": "code",
   "execution_count": 111,
   "metadata": {},
   "outputs": [
    {
     "data": {
      "image/png": "[encoded data removed]",
      "text/plain": [
       "<Figure size 432x288 with 1 Axes>"
      ]
     },
     "metadata": {
      "needs_background": "light"
     },
     "output_type": "display_data"
    }
   ],
   "source": [
    "just_2G.groupby('Voice')['Company'].nunique().plot(kind='bar', color = 'red', title= 'Voice services after 2G Decommision')\n",
    "\n",
    "plt.xlabel('Services')\n",
    "plt.ylabel('Nº of companies')\n",
    "plt.savefig('Voice_after2G.png')"
   ]
  },
  {
   "cell_type": "code",
   "execution_count": 112,
   "metadata": {},
   "outputs": [
    {
     "data": {
      "image/png": "[encoded data removed]",
      "text/plain": [
       "<Figure size 432x288 with 1 Axes>"
      ]
     },
     "metadata": {
      "needs_background": "light"
     },
     "output_type": "display_data"
    }
   ],
   "source": [
    "just_2G.groupby('IoT')['Company'].nunique().plot(kind='bar', color = 'red', title= 'IoT services after 2G Decommision')\n",
    "\n",
    "plt.xlabel('Services')\n",
    "plt.ylabel('Nº of companies')\n",
    "plt.savefig ('IoT_after2G.png')"
   ]
  },
  {
   "cell_type": "markdown",
   "metadata": {},
   "source": [
    "**Companies that will only decommision 3G networks**"
   ]
  },
  {
   "cell_type": "code",
   "execution_count": 121,
   "metadata": {},
   "outputs": [
    {
     "data": {
      "text/plain": [
       "14"
      ]
     },
     "execution_count": 121,
     "metadata": {},
     "output_type": "execute_result"
    }
   ],
   "source": [
    "len(just_3G)"
   ]
  },
  {
   "cell_type": "code",
   "execution_count": 114,
   "metadata": {},
   "outputs": [
    {
     "data": {
      "image/png": "[encoded data removed]",
      "text/plain": [
       "<Figure size 432x288 with 1 Axes>"
      ]
     },
     "metadata": {
      "needs_background": "light"
     },
     "output_type": "display_data"
    }
   ],
   "source": [
    "just_3G.groupby('Voice')['Company'].nunique().plot(kind='bar', color = 'red', title= 'Voice services after 3G Decommision')\n",
    "\n",
    "plt.xlabel('Services')\n",
    "plt.ylabel('Nº of companies')\n",
    "plt.savefig ('Voice_after3G.png')"
   ]
  },
  {
   "cell_type": "code",
   "execution_count": 115,
   "metadata": {},
   "outputs": [
    {
     "data": {
      "image/png": "[encoded data removed]",
      "text/plain": [
       "<Figure size 432x288 with 1 Axes>"
      ]
     },
     "metadata": {
      "needs_background": "light"
     },
     "output_type": "display_data"
    }
   ],
   "source": [
    "just_3G.groupby('IoT')['Company'].nunique().plot(kind='bar', color = 'red', title= 'IoT services after 3G Decommision')\n",
    "\n",
    "plt.xlabel('Services')\n",
    "plt.ylabel('Nº of companies')\n",
    "plt.savefig ('IoT_after3G.png')"
   ]
  },
  {
   "cell_type": "code",
   "execution_count": 17,
   "metadata": {},
   "outputs": [
    {
     "data": {
      "text/html": [
       "<div>\n",
       "<style scoped>\n",
       "    .dataframe tbody tr th:only-of-type {\n",
       "        vertical-align: middle;\n",
       "    }\n",
       "\n",
       "    .dataframe tbody tr th {\n",
       "        vertical-align: top;\n",
       "    }\n",
       "\n",
       "    .dataframe thead th {\n",
       "        text-align: right;\n",
       "    }\n",
       "</style>\n",
       "<table border=\"1\" class=\"dataframe\">\n",
       "  <thead>\n",
       "    <tr style=\"text-align: right;\">\n",
       "      <th></th>\n",
       "      <th>Company</th>\n",
       "      <th>Country</th>\n",
       "      <th>2G Decommision</th>\n",
       "      <th>3G Decommision</th>\n",
       "      <th>Voice</th>\n",
       "      <th>IoT</th>\n",
       "      <th>Already Launched</th>\n",
       "    </tr>\n",
       "  </thead>\n",
       "  <tbody>\n",
       "    <tr>\n",
       "      <th>15</th>\n",
       "      <td>NE Colorado Cellular, Inc. dba Viaero Wireless</td>\n",
       "      <td>USA</td>\n",
       "      <td>2019</td>\n",
       "      <td>2024</td>\n",
       "      <td>VoLTE</td>\n",
       "      <td>5G</td>\n",
       "      <td>[G, VOLTE]</td>\n",
       "    </tr>\n",
       "    <tr>\n",
       "      <th>13</th>\n",
       "      <td>Mobily</td>\n",
       "      <td>Saudi Arabia</td>\n",
       "      <td>2020</td>\n",
       "      <td>2023</td>\n",
       "      <td>3G Network</td>\n",
       "      <td>3G Network</td>\n",
       "      <td>[G]</td>\n",
       "    </tr>\n",
       "    <tr>\n",
       "      <th>25</th>\n",
       "      <td>T-Mobile</td>\n",
       "      <td>The Netherlands</td>\n",
       "      <td>2020</td>\n",
       "      <td>No Plans</td>\n",
       "      <td>VoLTE</td>\n",
       "      <td>all</td>\n",
       "      <td>[G]</td>\n",
       "    </tr>\n",
       "    <tr>\n",
       "      <th>4</th>\n",
       "      <td>China Telecom</td>\n",
       "      <td>China</td>\n",
       "      <td>2022</td>\n",
       "      <td>2022</td>\n",
       "      <td>VoLTE</td>\n",
       "      <td>NB-IoT</td>\n",
       "      <td>[G, VoLTE , G ,  NB-IoT , ]</td>\n",
       "    </tr>\n",
       "    <tr>\n",
       "      <th>6</th>\n",
       "      <td>EE UK</td>\n",
       "      <td>UK</td>\n",
       "      <td>2025</td>\n",
       "      <td>2023</td>\n",
       "      <td>VoLTE</td>\n",
       "      <td>NB-IoT</td>\n",
       "      <td>[G, VoLTE, G, NB-IoT ]</td>\n",
       "    </tr>\n",
       "    <tr>\n",
       "      <th>10</th>\n",
       "      <td>JT Jersey</td>\n",
       "      <td>Channel Islands</td>\n",
       "      <td>2025</td>\n",
       "      <td>2025</td>\n",
       "      <td>VoLTE</td>\n",
       "      <td>5G Network</td>\n",
       "      <td>[G, VOLTE, ]</td>\n",
       "    </tr>\n",
       "    <tr>\n",
       "      <th>30</th>\n",
       "      <td>T-Mobile</td>\n",
       "      <td>Czech Republic</td>\n",
       "      <td>2025</td>\n",
       "      <td>2025</td>\n",
       "      <td>All</td>\n",
       "      <td>all</td>\n",
       "      <td>[G]</td>\n",
       "    </tr>\n",
       "    <tr>\n",
       "      <th>5</th>\n",
       "      <td>Cubic Telecom</td>\n",
       "      <td>Ireland</td>\n",
       "      <td>2030</td>\n",
       "      <td>nan</td>\n",
       "      <td>VoLTE</td>\n",
       "      <td>4G Network</td>\n",
       "      <td>[G, VolTE, LTE M]</td>\n",
       "    </tr>\n",
       "    <tr>\n",
       "      <th>7</th>\n",
       "      <td>Freedom Mobile</td>\n",
       "      <td>Canada</td>\n",
       "      <td>Don't have 2G</td>\n",
       "      <td>No Plans</td>\n",
       "      <td>3G Network</td>\n",
       "      <td>4G Network</td>\n",
       "      <td>[G, VoLTE , G, LTE-M, NB-IoT ]</td>\n",
       "    </tr>\n",
       "  </tbody>\n",
       "</table>\n",
       "</div>"
      ],
      "text/plain": [
       "                                           Company          Country  \\\n",
       "15  NE Colorado Cellular, Inc. dba Viaero Wireless              USA   \n",
       "13                                          Mobily     Saudi Arabia   \n",
       "25                                        T-Mobile  The Netherlands   \n",
       "4                                    China Telecom            China   \n",
       "6                                            EE UK               UK   \n",
       "10                                       JT Jersey  Channel Islands   \n",
       "30                                        T-Mobile   Czech Republic   \n",
       "5                                    Cubic Telecom          Ireland   \n",
       "7                                   Freedom Mobile           Canada   \n",
       "\n",
       "   2G Decommision 3G Decommision       Voice         IoT  \\\n",
       "15           2019           2024       VoLTE          5G   \n",
       "13           2020           2023  3G Network  3G Network   \n",
       "25           2020       No Plans       VoLTE         all   \n",
       "4            2022           2022       VoLTE      NB-IoT   \n",
       "6            2025           2023       VoLTE      NB-IoT   \n",
       "10           2025           2025       VoLTE  5G Network   \n",
       "30           2025           2025         All         all   \n",
       "5            2030            nan       VoLTE  4G Network   \n",
       "7   Don't have 2G       No Plans  3G Network  4G Network   \n",
       "\n",
       "                  Already Launched  \n",
       "15                      [G, VOLTE]  \n",
       "13                             [G]  \n",
       "25                             [G]  \n",
       "4      [G, VoLTE , G ,  NB-IoT , ]  \n",
       "6           [G, VoLTE, G, NB-IoT ]  \n",
       "10                    [G, VOLTE, ]  \n",
       "30                             [G]  \n",
       "5                [G, VolTE, LTE M]  \n",
       "7   [G, VoLTE , G, LTE-M, NB-IoT ]  "
      ]
     },
     "execution_count": 17,
     "metadata": {},
     "output_type": "execute_result"
    }
   ],
   "source": [
    "s = df_1['Already Launched'].apply(str).str.replace('\\d\\d*|[()]','',regex=True).str.strip(',').str.split('and')\n",
    "df_1['Already Launched'] = s\n",
    "df_1"
   ]
  },
  {
   "cell_type": "code",
   "execution_count": null,
   "metadata": {},
   "outputs": [],
   "source": []
  },
  {
   "cell_type": "code",
   "execution_count": null,
   "metadata": {},
   "outputs": [],
   "source": []
  },
  {
   "cell_type": "code",
   "execution_count": null,
   "metadata": {},
   "outputs": [],
   "source": []
  },
  {
   "cell_type": "code",
   "execution_count": null,
   "metadata": {},
   "outputs": [],
   "source": []
  },
  {
   "cell_type": "code",
   "execution_count": null,
   "metadata": {},
   "outputs": [],
   "source": []
  }
 ],
 "metadata": {
  "kernelspec": {
   "display_name": "Python 3",
   "language": "python",
   "name": "python3"
  },
  "language_info": {
   "codemirror_mode": {
    "name": "ipython",
    "version": 3
   },
   "file_extension": ".py",
   "mimetype": "text/x-python",
   "name": "python",
   "nbconvert_exporter": "python",
   "pygments_lexer": "ipython3",
   "version": "3.7.3"
  }
 },
 "nbformat": 4,
 "nbformat_minor": 2
}
